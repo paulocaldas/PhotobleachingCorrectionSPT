{
 "cells": [
  {
   "cell_type": "markdown",
   "metadata": {},
   "source": [
    "## Photobleaching Corrrection for Single Particles"
   ]
  },
  {
   "cell_type": "markdown",
   "metadata": {},
   "source": [
    "#### Select Files Interactively : Script Computes Everything"
   ]
  },
  {
   "cell_type": "code",
   "execution_count": null,
   "metadata": {},
   "outputs": [],
   "source": [
    "from src.src import ComputePhotobleachCorrection\n",
    "\n",
    "ComputePhotobleachCorrection(thres = 4,            # discard short lifetimes (in frames)\n",
    "                             cutoff = 100,         # discard long lifetimes (in frames)\n",
    "                             t_exp = 0.05,         # set exposure time (in sec)\n",
    "                             bin_width = 1,        # bin width (in frames)\n",
    "                             plot_xlim = 14);      # x_axis upper limit"
   ]
  },
  {
   "cell_type": "markdown",
   "metadata": {},
   "source": [
    "<hr>"
   ]
  },
  {
   "cell_type": "markdown",
   "metadata": {},
   "source": [
    "### Optional: Compute each distribution individually"
   ]
  },
  {
   "cell_type": "code",
   "execution_count": null,
   "metadata": {},
   "outputs": [],
   "source": [
    "from src.src import ComputeLifetimeDistributions\n",
    "\n",
    "ComputeLifetimeDistributions(thres = 4,  #lifetimes shorter than this value are discarded (in frames)\n",
    "                             cutoff = 100, # lifetimes longer than this value are discarded (in frames)\n",
    "                             t_exp = 0.5, # exposure time\n",
    "                             bin_width = 2) # bin width in frame"
   ]
  },
  {
   "cell_type": "markdown",
   "metadata": {},
   "source": [
    "<hr>"
   ]
  }
 ],
 "metadata": {
  "kernelspec": {
   "display_name": "Python 3",
   "language": "python",
   "name": "python3"
  },
  "language_info": {
   "codemirror_mode": {
    "name": "ipython",
    "version": 3
   },
   "file_extension": ".py",
   "mimetype": "text/x-python",
   "name": "python",
   "nbconvert_exporter": "python",
   "pygments_lexer": "ipython3",
   "version": "3.8.5"
  }
 },
 "nbformat": 4,
 "nbformat_minor": 2
}
